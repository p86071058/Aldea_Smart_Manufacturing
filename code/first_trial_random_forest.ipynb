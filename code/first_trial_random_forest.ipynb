{
  "nbformat": 4,
  "nbformat_minor": 0,
  "metadata": {
    "kernelspec": {
      "display_name": "Python 3",
      "language": "python",
      "name": "python3"
    },
    "language_info": {
      "codemirror_mode": {
        "name": "ipython",
        "version": 3
      },
      "file_extension": ".py",
      "mimetype": "text/x-python",
      "name": "python",
      "nbconvert_exporter": "python",
      "pygments_lexer": "ipython3",
      "version": "3.7.0"
    },
    "colab": {
      "name": "first_trial_random_forest_.ipynb",
      "provenance": [],
      "collapsed_sections": []
    }
  },
  "cells": [
    {
      "cell_type": "code",
      "metadata": {
        "id": "1wyk3F9OKElp",
        "colab": {
          "base_uri": "https://localhost:8080/"
        },
        "outputId": "ae7828be-72a9-4313-a663-be2f42360d13"
      },
      "source": [
        "from google.colab import drive\n",
        "drive.mount('/content/drive')"
      ],
      "execution_count": 1,
      "outputs": [
        {
          "output_type": "stream",
          "text": [
            "Drive already mounted at /content/drive; to attempt to forcibly remount, call drive.mount(\"/content/drive\", force_remount=True).\n"
          ],
          "name": "stdout"
        }
      ]
    },
    {
      "cell_type": "code",
      "metadata": {
        "id": "C2is5z32G1rE"
      },
      "source": [
        "import os\n",
        "import numpy as np\n",
        "import pandas as pd\n",
        "import sklearn\n",
        "import collections\n",
        "from functools import partial\n",
        "from sklearn.model_selection import cross_val_score\n",
        "from sklearn.ensemble import RandomForestRegressor\n",
        "from sklearn.impute import SimpleImputer\n",
        "from hyperopt import fmin, tpe, hp, rand, Trials, space_eval"
      ],
      "execution_count": 2,
      "outputs": []
    },
    {
      "cell_type": "code",
      "metadata": {
        "id": "fsp4WkBPG1rJ"
      },
      "source": [
        "def impute_values(data):\n",
        "    for c in data.columns:\n",
        "        data[c].replace([np.inf, -np.inf], np.nan, inplace = True)\n",
        "    for c in data.columns:\n",
        "        data[c].fillna(value = data[c].mean(), inplace = True)\n",
        "    return data\n",
        "\n",
        "def rf_objective(parameter, feature, label):\n",
        "    loss = -cross_val_score(RandomForestRegressor(**parameter, n_jobs = -1),\n",
        "                            feature, label, cv = 5, scoring = 'neg_mean_absolute_error').mean()\n",
        "    return loss"
      ],
      "execution_count": 3,
      "outputs": []
    },
    {
      "cell_type": "code",
      "metadata": {
        "id": "fpGTowhAG1rM"
      },
      "source": [
        "rf_parameter = {\"n_estimators\": hp.choice('n_estimators', np.linspace(10, 200, num = 20, dtype = np.int32)),\n",
        "            \"max_depth\": hp.choice('max_depth', np.linspace(1, 20, num = 20)),\n",
        "            'min_samples_leaf': hp.choice('min_samples_leaf', np.linspace(2, 30, num = 25, dtype = np.int32))}\n",
        "\n",
        "targets = ['CIEX', 'CIEY', 'CIEX_DIFF', 'CIEY_DIFF']"
      ],
      "execution_count": 4,
      "outputs": []
    },
    {
      "cell_type": "code",
      "metadata": {
        "id": "Q1XmiFDlG1rP"
      },
      "source": [
        "data_path = '/content/drive/My Drive/project/smart_manufacturing/csv_file'\n",
        "train = pd.read_csv(os.path.join(data_path, 'encode_train_features.csv'))\n",
        "test = pd.read_csv(os.path.join(data_path, 'encode_test_features.csv'))\n",
        "train.drop(['Unnamed: 0', 'P_ID'], axis = 1, inplace = True)\n",
        "test.drop(['Unnamed: 0', 'P_ID'], axis = 1, inplace = True)\n",
        "train = impute_values(train)\n",
        "test = impute_values(test)\n",
        "target = np.load('/content/drive/My Drive/project/smart_manufacturing/npy_file/target_array.npy')"
      ],
      "execution_count": 5,
      "outputs": []
    },
    {
      "cell_type": "code",
      "metadata": {
        "id": "32OqVHDzG1rb",
        "colab": {
          "base_uri": "https://localhost:8080/"
        },
        "outputId": "15414ba2-5424-4cd9-e345-84b9c3773183"
      },
      "source": [
        "predict_data = np.zeros((5723, 1))\n",
        "for i in range(4):\n",
        "    objective = partial(rf_objective, feature = np.array(train), label = target[:,i])\n",
        "    min_objective = fmin(fn = objective, space = rf_parameter, algo = tpe.suggest, max_evals = 15, trials = Trials())\n",
        "    values = space_eval(rf_parameter ,min_objective).values()\n",
        "    best_parameter = np.int32(list(values))\n",
        "    print('Target is : ', targets[i])\n",
        "    print(\"best rf estimate parameters\" , space_eval(rf_parameter, min_objective))\n",
        "    print(\"=============================\")\n",
        "    best_rf = RandomForestRegressor(n_estimators = best_parameter[2], \n",
        "                                    max_depth = best_parameter[0], \n",
        "                                    min_samples_leaf =  best_parameter[1], \n",
        "                                    n_jobs = -1)\n",
        "    # 訓練\n",
        "    best_rf.fit(np.array(train), target[:,i])\n",
        "    # 預測\n",
        "    predict = best_rf.predict(test)\n",
        "    predict = np.reshape(predict, (5723, 1))\n",
        "    predict_data = np.concatenate((predict_data, predict), axis = 1)\n",
        "\n",
        "predict_data = predict_data[:,1:]\n",
        "predict_dataframe = pd.DataFrame(predict_data, columns = targets)"
      ],
      "execution_count": 6,
      "outputs": [
        {
          "output_type": "stream",
          "text": [
            "100%|██████████| 15/15 [02:20<00:00,  9.37s/it, best loss: 0.017718137995541675]\n",
            "Target is :  CIEX\n",
            "best rf estimate parameters {'max_depth': 6.0, 'min_samples_leaf': 10, 'n_estimators': 170}\n",
            "=============================\n",
            "100%|██████████| 15/15 [03:08<00:00, 12.57s/it, best loss: 0.017644075428174748]\n",
            "Target is :  CIEY\n",
            "best rf estimate parameters {'max_depth': 18.0, 'min_samples_leaf': 2, 'n_estimators': 80}\n",
            "=============================\n",
            "100%|██████████| 15/15 [02:36<00:00, 10.42s/it, best loss: 0.003908837753637767]\n",
            "Target is :  CIEX_DIFF\n",
            "best rf estimate parameters {'max_depth': 7.0, 'min_samples_leaf': 28, 'n_estimators': 200}\n",
            "=============================\n",
            "100%|██████████| 15/15 [03:16<00:00, 13.07s/it, best loss: 0.0039326756233675885]\n",
            "Target is :  CIEY_DIFF\n",
            "best rf estimate parameters {'max_depth': 20.0, 'min_samples_leaf': 28, 'n_estimators': 100}\n",
            "=============================\n"
          ],
          "name": "stdout"
        }
      ]
    },
    {
      "cell_type": "code",
      "metadata": {
        "id": "9sUxNeKXG1rj",
        "colab": {
          "base_uri": "https://localhost:8080/",
          "height": 415
        },
        "outputId": "43631000-8d94-4d88-c4f0-bf6c3b2cc7df"
      },
      "source": [
        "df = pd.read_csv('/content/drive/My Drive/project/smart_manufacturing/data/submission.csv')\n",
        "submmit = pd.concat([df['id'], predict_dataframe], axis = 1)\n",
        "submmit"
      ],
      "execution_count": 10,
      "outputs": [
        {
          "output_type": "execute_result",
          "data": {
            "text/html": [
              "<div>\n",
              "<style scoped>\n",
              "    .dataframe tbody tr th:only-of-type {\n",
              "        vertical-align: middle;\n",
              "    }\n",
              "\n",
              "    .dataframe tbody tr th {\n",
              "        vertical-align: top;\n",
              "    }\n",
              "\n",
              "    .dataframe thead th {\n",
              "        text-align: right;\n",
              "    }\n",
              "</style>\n",
              "<table border=\"1\" class=\"dataframe\">\n",
              "  <thead>\n",
              "    <tr style=\"text-align: right;\">\n",
              "      <th></th>\n",
              "      <th>id</th>\n",
              "      <th>CIEX</th>\n",
              "      <th>CIEY</th>\n",
              "      <th>CIEX_DIFF</th>\n",
              "      <th>CIEY_DIFF</th>\n",
              "    </tr>\n",
              "  </thead>\n",
              "  <tbody>\n",
              "    <tr>\n",
              "      <th>0</th>\n",
              "      <td>2</td>\n",
              "      <td>3.136910</td>\n",
              "      <td>2.160318</td>\n",
              "      <td>0.007365</td>\n",
              "      <td>0.008398</td>\n",
              "    </tr>\n",
              "    <tr>\n",
              "      <th>1</th>\n",
              "      <td>4</td>\n",
              "      <td>3.136938</td>\n",
              "      <td>2.159338</td>\n",
              "      <td>0.008269</td>\n",
              "      <td>0.007842</td>\n",
              "    </tr>\n",
              "    <tr>\n",
              "      <th>2</th>\n",
              "      <td>5</td>\n",
              "      <td>3.136972</td>\n",
              "      <td>2.160718</td>\n",
              "      <td>0.009126</td>\n",
              "      <td>0.008346</td>\n",
              "    </tr>\n",
              "    <tr>\n",
              "      <th>3</th>\n",
              "      <td>7</td>\n",
              "      <td>3.136982</td>\n",
              "      <td>2.159494</td>\n",
              "      <td>0.008139</td>\n",
              "      <td>0.008429</td>\n",
              "    </tr>\n",
              "    <tr>\n",
              "      <th>4</th>\n",
              "      <td>10</td>\n",
              "      <td>3.136853</td>\n",
              "      <td>2.158966</td>\n",
              "      <td>0.007041</td>\n",
              "      <td>0.008279</td>\n",
              "    </tr>\n",
              "    <tr>\n",
              "      <th>...</th>\n",
              "      <td>...</td>\n",
              "      <td>...</td>\n",
              "      <td>...</td>\n",
              "      <td>...</td>\n",
              "      <td>...</td>\n",
              "    </tr>\n",
              "    <tr>\n",
              "      <th>5718</th>\n",
              "      <td>10674</td>\n",
              "      <td>0.732452</td>\n",
              "      <td>4.751103</td>\n",
              "      <td>0.004629</td>\n",
              "      <td>0.004705</td>\n",
              "    </tr>\n",
              "    <tr>\n",
              "      <th>5719</th>\n",
              "      <td>10675</td>\n",
              "      <td>0.732392</td>\n",
              "      <td>4.751425</td>\n",
              "      <td>0.004085</td>\n",
              "      <td>0.003483</td>\n",
              "    </tr>\n",
              "    <tr>\n",
              "      <th>5720</th>\n",
              "      <td>10676</td>\n",
              "      <td>0.732348</td>\n",
              "      <td>4.751731</td>\n",
              "      <td>0.003650</td>\n",
              "      <td>0.003048</td>\n",
              "    </tr>\n",
              "    <tr>\n",
              "      <th>5721</th>\n",
              "      <td>10680</td>\n",
              "      <td>0.732372</td>\n",
              "      <td>4.751463</td>\n",
              "      <td>0.003758</td>\n",
              "      <td>0.003008</td>\n",
              "    </tr>\n",
              "    <tr>\n",
              "      <th>5722</th>\n",
              "      <td>10684</td>\n",
              "      <td>0.732356</td>\n",
              "      <td>4.751425</td>\n",
              "      <td>0.003830</td>\n",
              "      <td>0.003487</td>\n",
              "    </tr>\n",
              "  </tbody>\n",
              "</table>\n",
              "<p>5723 rows × 5 columns</p>\n",
              "</div>"
            ],
            "text/plain": [
              "         id      CIEX      CIEY  CIEX_DIFF  CIEY_DIFF\n",
              "0         2  3.136910  2.160318   0.007365   0.008398\n",
              "1         4  3.136938  2.159338   0.008269   0.007842\n",
              "2         5  3.136972  2.160718   0.009126   0.008346\n",
              "3         7  3.136982  2.159494   0.008139   0.008429\n",
              "4        10  3.136853  2.158966   0.007041   0.008279\n",
              "...     ...       ...       ...        ...        ...\n",
              "5718  10674  0.732452  4.751103   0.004629   0.004705\n",
              "5719  10675  0.732392  4.751425   0.004085   0.003483\n",
              "5720  10676  0.732348  4.751731   0.003650   0.003048\n",
              "5721  10680  0.732372  4.751463   0.003758   0.003008\n",
              "5722  10684  0.732356  4.751425   0.003830   0.003487\n",
              "\n",
              "[5723 rows x 5 columns]"
            ]
          },
          "metadata": {
            "tags": []
          },
          "execution_count": 10
        }
      ]
    },
    {
      "cell_type": "code",
      "metadata": {
        "id": "Y8bbY6LtG1rl"
      },
      "source": [
        "submmit.to_csv('/home/motionlab/Desktop/weitai/project/test result/second_trial.csv', index = False)"
      ],
      "execution_count": null,
      "outputs": []
    }
  ]
}